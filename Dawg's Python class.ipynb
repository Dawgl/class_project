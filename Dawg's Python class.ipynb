{
 "cells": [
  {
   "cell_type": "code",
   "execution_count": 1,
   "id": "9f4cf731",
   "metadata": {},
   "outputs": [
    {
     "name": "stdout",
     "output_type": "stream",
     "text": [
      "hello\n",
      "1235\n"
     ]
    }
   ],
   "source": [
    "print(\"hello\")\n",
    "print(\"123\"+ \"5\")"
   ]
  },
  {
   "cell_type": "code",
   "execution_count": 2,
   "id": "1032553f",
   "metadata": {},
   "outputs": [
    {
     "data": {
      "text/plain": [
       "float"
      ]
     },
     "execution_count": 2,
     "metadata": {},
     "output_type": "execute_result"
    }
   ],
   "source": [
    "a=234.65\n",
    "type(a)"
   ]
  },
  {
   "cell_type": "code",
   "execution_count": 3,
   "id": "52339f64",
   "metadata": {},
   "outputs": [
    {
     "name": "stdout",
     "output_type": "stream",
     "text": [
      "enter number 1:23\n",
      "enter a number 2:10\n",
      " the sum of a and b is 33.0\n"
     ]
    }
   ],
   "source": [
    "a=float(input(\"enter number 1:\"))\n",
    "b=float(input(\"enter a number 2:\"))\n",
    "print(f\" the sum of a and b is {a+b}\")"
   ]
  },
  {
   "cell_type": "code",
   "execution_count": 4,
   "id": "65b37f3d",
   "metadata": {},
   "outputs": [
    {
     "name": "stdout",
     "output_type": "stream",
     "text": [
      "enter message:Bread\n",
      "buy\n"
     ]
    }
   ],
   "source": [
    "get_me =input ('enter message:').lower()\n",
    "if get_me == \"tomatoes\":\n",
    "    print(\"buy\")\n",
    "elif get_me==\"lemon\":\n",
    "    print(\"buy\")\n",
    "elif get_me==\"bread\":\n",
    "    print(\"buy\")\n",
    "else:\n",
    "    print(\"Information not found\")"
   ]
  },
  {
   "cell_type": "code",
   "execution_count": 5,
   "id": "e3e72b7c",
   "metadata": {},
   "outputs": [
    {
     "name": "stdout",
     "output_type": "stream",
     "text": [
      " enter your name Douglas\n",
      " enter your age 18\n",
      "my name is Douglas and i am 18 years old\n"
     ]
    }
   ],
   "source": [
    "x= input(\" enter your name \")\n",
    "y=input(\" enter your age \")\n",
    "print( f\"my name is {x} and i am {y} years old\")"
   ]
  },
  {
   "cell_type": "raw",
   "id": "dc2d050b",
   "metadata": {},
   "source": [
    "c=5\\9 *(f +32)\n",
    "f=9\\5 *(c - 32)"
   ]
  },
  {
   "cell_type": "code",
   "execution_count": 7,
   "id": "91d58e3f",
   "metadata": {},
   "outputs": [
    {
     "name": "stdout",
     "output_type": "stream",
     "text": [
      "enter temperature input value:55\n",
      "enter unit f\\c:f\n",
      " the temperature value from 55.0f is 48.33celcius\n"
     ]
    }
   ],
   "source": [
    "temp_value=float(input(\"enter temperature input value:\"))\n",
    "unit = input (\"enter unit f\\c:\").lower()\n",
    "\n",
    "if unit ==\"f\":\n",
    "    celcuis = round(5/9 * (temp_value + 32),2)\n",
    "    print(f\" the temperature value from {temp_value}{unit} is {celcuis}celcius\")\n",
    "elif unit ==\"c\":\n",
    "    fahr = round(9/5 * (temp_value + 32),2)\n",
    "    print(f\" the temperature value from {temp_value}{unit} is {fahr}fahrenheit\") \n",
    "else:\n",
    "    print(\"ERROR\")"
   ]
  },
  {
   "cell_type": "raw",
   "id": "bb0e3eb2",
   "metadata": {},
   "source": [
    "grades= input('enter grade score of student')\n",
    "if grades ==\"70-100\":\n",
    "    print(f\" A-Excellent \");\n",
    "elif grades ==\"69-50\":\n",
    "   print(f\" B-Excellent\")\n",
    "elif grades ==\"49-30\":\n",
    "   print(f\"C-good\")\n",
    "else:\n",
    "    print(\"Failed\")"
   ]
  },
  {
   "cell_type": "code",
   "execution_count": 8,
   "id": "f7271728",
   "metadata": {},
   "outputs": [
    {
     "name": "stdout",
     "output_type": "stream",
     "text": [
      "enter sub string values:h\n",
      "ia\n"
     ]
    }
   ],
   "source": [
    "value=\"cynthia\"\n",
    "sub_string= input('enter sub string values:')\n",
    "k=value.index(sub_string)\n",
    "right_values=value[k+1:]\n",
    "print(right_values)"
   ]
  },
  {
   "cell_type": "code",
   "execution_count": 9,
   "id": "1e028f11",
   "metadata": {},
   "outputs": [
    {
     "name": "stdout",
     "output_type": "stream",
     "text": [
      "enter sub string values:h\n",
      "cynt\n"
     ]
    }
   ],
   "source": [
    "#classwork\n",
    "value=\"cynthia\"\n",
    "sub_string= input('enter sub string values:')\n",
    "k=value.index(sub_string)\n",
    "left_values=value[:k]\n",
    "print(left_values)"
   ]
  },
  {
   "cell_type": "code",
   "execution_count": 10,
   "id": "bb8a681b",
   "metadata": {},
   "outputs": [
    {
     "data": {
      "text/plain": [
       "6"
      ]
     },
     "execution_count": 10,
     "metadata": {},
     "output_type": "execute_result"
    }
   ],
   "source": [
    "#assignment\n",
    "n=\"tobechukwuigia\"\n",
    "n.index(\"u\")"
   ]
  },
  {
   "cell_type": "code",
   "execution_count": 11,
   "id": "b206e713",
   "metadata": {},
   "outputs": [
    {
     "name": "stdout",
     "output_type": "stream",
     "text": [
      "enter your name: Dawg\n",
      " enter your date of birth 2020\n",
      "Dawg is 2 years old\n"
     ]
    }
   ],
   "source": [
    "name=input( \"enter your name: \")\n",
    "year_of_birth=int(input(\" enter your date of birth \"))\n",
    "print(f\"{name} is {2022-year_of_birth} years old\")"
   ]
  },
  {
   "cell_type": "code",
   "execution_count": 12,
   "id": "db0e1803",
   "metadata": {},
   "outputs": [
    {
     "data": {
      "text/plain": [
       "9"
      ]
     },
     "execution_count": 12,
     "metadata": {},
     "output_type": "execute_result"
    }
   ],
   "source": [
    "#assignment solution\n",
    "n = \"tobechukwuigia\"\n",
    "n.index(\"u\",7)"
   ]
  },
  {
   "cell_type": "code",
   "execution_count": 14,
   "id": "e03bd2b4",
   "metadata": {},
   "outputs": [
    {
     "name": "stdout",
     "output_type": "stream",
     "text": [
      "[6, 9]\n"
     ]
    }
   ],
   "source": [
    "#assignment solution 2\n",
    "n = \"tobechukwuigia\"\n",
    "k = [index for (index, item) in enumerate(\"tobechukwuigia\") if item == \"u\"]\n",
    "print(k)"
   ]
  },
  {
   "cell_type": "code",
   "execution_count": null,
   "id": "6906ec51",
   "metadata": {},
   "outputs": [],
   "source": []
  }
 ],
 "metadata": {
  "kernelspec": {
   "display_name": "Python 3 (ipykernel)",
   "language": "python",
   "name": "python3"
  },
  "language_info": {
   "codemirror_mode": {
    "name": "ipython",
    "version": 3
   },
   "file_extension": ".py",
   "mimetype": "text/x-python",
   "name": "python",
   "nbconvert_exporter": "python",
   "pygments_lexer": "ipython3",
   "version": "3.9.7"
  }
 },
 "nbformat": 4,
 "nbformat_minor": 5
}
